 "cells": [
  {
   "cell_type": "markdown",
   "id": "a46935f4",
   "metadata": {},
   "source": [
    "<a href=\"https://www.kaggle.com/code/subhajeetdas/netflix-stock-price-prediction?scriptVersionId=126308903\" target=\"_blank\"><img align=\"left\" alt=\"Kaggle\" title=\"Open in Kaggle\" src=\"https://kaggle.com/static/images/open-in-kaggle.svg\"></a>"
   ]
  },
  {
   "cell_type": "markdown",
   "id": "0374bd1f",
   "metadata": {
    "papermill": {
     "duration": 0.010134,
     "end_time": "2023-04-18T17:51:06.947275",
     "exception": false,
     "start_time": "2023-04-18T17:51:06.937141",
     "status": "completed"
    },
    "tags": []
   },
   "source": [
    "# Import Libraries"
   ]
  },
  {
   "cell_type": "code",
   "execution_count": 1,
   "id": "a233726c",
   "metadata": {
    "_cell_guid": "b1076dfc-b9ad-4769-8c92-a6c4dae69d19",
    "_uuid": "8f2839f25d086af736a60e9eeb907d3b93b6e0e5",
    "execution": {
     "iopub.execute_input": "2023-04-18T17:51:06.967143Z",
     "iopub.status.busy": "2023-04-18T17:51:06.966591Z",
     "iopub.status.idle": "2023-04-18T17:51:08.154422Z",
     "shell.execute_reply": "2023-04-18T17:51:08.153116Z"
    },
    "papermill": {
     "duration": 1.200945,
     "end_time": "2023-04-18T17:51:08.157615",
     "exception": false,
     "start_time": "2023-04-18T17:51:06.95667",
     "status": "completed"
    },
    "tags": []
   },
   "outputs": [
    {
     "name": "stdout",
     "output_type": "stream",
     "text": [
      "/kaggle/input/netflix-stock-price-prediction/NFLX.csv\n"
     ]
    }
   ],
   "source": [
    "import numpy as np\n",
    "import pandas as pd\n",
    "import matplotlib.pyplot as plt\n",
    "from sklearn.model_selection import train_test_split\n",
    "from sklearn.linear_model import LinearRegression\n",
    "from sklearn.metrics import mean_squared_error, mean_absolute_error, mean_absolute_percentage_error,r2_score\n",
    "\n",
    "import os\n",
    "for dirname, _, filenames in os.walk('/kaggle/input'):\n",
    "    for filename in filenames:\n",
    "        print(os.path.join(dirname, filename))\n",
    "\n",
    "import warnings\n",
    "warnings.filterwarnings('ignore')"
   ]
  },
  {
   "cell_type": "markdown",
   "id": "160a61fc",
   "metadata": {
    "papermill": {
     "duration": 0.008564,
     "end_time": "2023-04-18T17:51:08.174877",
     "exception": false,
     "start_time": "2023-04-18T17:51:08.166313",
     "status": "completed"
    },
    "tags": []
   },
   "source": [
    "# Data Loading"
   ]
  },
  {
   "cell_type": "code",
   "execution_count": 2,
   "id": "f6eab985",
   "metadata": {
    "execution": {
     "iopub.execute_input": "2023-04-18T17:51:08.194478Z",
     "iopub.status.busy": "2023-04-18T17:51:08.194029Z",
     "iopub.status.idle": "2023-04-18T17:51:08.212431Z",
     "shell.execute_reply": "2023-04-18T17:51:08.211052Z"
    },
    "papermill": {
     "duration": 0.032291,
     "end_time": "2023-04-18T17:51:08.215746",
     "exception": false,
     "start_time": "2023-04-18T17:51:08.183455",
     "status": "completed"
    },
    "tags": []
   },
   "outputs": [],
   "source": [
    "df = pd.read_csv(\"/kaggle/input/netflix-stock-price-prediction/NFLX.csv\")"
   ]
  },
  {
   "cell_type": "code",
   "execution_count": 3,
   "id": "5aeafefe",
   "metadata": {
    "execution": {
     "iopub.execute_input": "2023-04-18T17:51:08.237507Z",
     "iopub.status.busy": "2023-04-18T17:51:08.236087Z",
     "iopub.status.idle": "2023-04-18T17:51:08.269614Z",
     "shell.execute_reply": "2023-04-18T17:51:08.268553Z"
    },
    "papermill": {
     "duration": 0.048215,
     "end_time": "2023-04-18T17:51:08.272717",
     "exception": false,
     "start_time": "2023-04-18T17:51:08.224502",
     "status": "completed"
    },
    "tags": []
   },
   "outputs": [
    {
     "data": {
      "text/html": [
       "<div>\n",
       "<style scoped>\n",
       "    .dataframe tbody tr th:only-of-type {\n",
       "        vertical-align: middle;\n",
       "    }\n",
       "\n",
       "    .dataframe tbody tr th {\n",
       "        vertical-align: top;\n",
       "    }\n",
       "\n",
       "    .dataframe thead th {\n",
       "        text-align: right;\n",
       "    }\n",
       "</style>\n",
       "<table border=\"1\" class=\"dataframe\">\n",
       "  <thead>\n",
       "    <tr style=\"text-align: right;\">\n",
       "      <th></th>\n",
       "      <th>Date</th>\n",
       "      <th>Open</th>\n",
       "      <th>High</th>\n",
       "      <th>Low</th>\n",
       "      <th>Close</th>\n",
       "      <th>Adj Close</th>\n",
       "      <th>Volume</th>\n",
       "    </tr>\n",
       "  </thead>\n",
       "  <tbody>\n",
       "    <tr>\n",
       "      <th>0</th>\n",
       "      <td>2018-02-05</td>\n",
       "      <td>262.000000</td>\n",
       "      <td>267.899994</td>\n",
       "      <td>250.029999</td>\n",
       "      <td>254.259995</td>\n",
       "      <td>254.259995</td>\n",
       "      <td>11896100</td>\n",
       "    </tr>\n",
       "    <tr>\n",
       "      <th>1</th>\n",
       "      <td>2018-02-06</td>\n",
       "      <td>247.699997</td>\n",
       "      <td>266.700012</td>\n",
       "      <td>245.000000</td>\n",
       "      <td>265.720001</td>\n",
       "      <td>265.720001</td>\n",
       "      <td>12595800</td>\n",
       "    </tr>\n",
       "    <tr>\n",
       "      <th>2</th>\n",
       "      <td>2018-02-07</td>\n",
       "      <td>266.579987</td>\n",
       "      <td>272.450012</td>\n",
       "      <td>264.329987</td>\n",
       "      <td>264.559998</td>\n",
       "      <td>264.559998</td>\n",
       "      <td>8981500</td>\n",
       "    </tr>\n",
       "    <tr>\n",
       "      <th>3</th>\n",
       "      <td>2018-02-08</td>\n",
       "      <td>267.079987</td>\n",
       "      <td>267.619995</td>\n",
       "      <td>250.000000</td>\n",
       "      <td>250.100006</td>\n",
       "      <td>250.100006</td>\n",
       "      <td>9306700</td>\n",
       "    </tr>\n",
       "    <tr>\n",
       "      <th>4</th>\n",
       "      <td>2018-02-09</td>\n",
       "      <td>253.850006</td>\n",
       "      <td>255.800003</td>\n",
       "      <td>236.110001</td>\n",
       "      <td>249.470001</td>\n",
       "      <td>249.470001</td>\n",
       "      <td>16906900</td>\n",
       "    </tr>\n",
       "    <tr>\n",
       "      <th>5</th>\n",
       "      <td>2018-02-12</td>\n",
       "      <td>252.139999</td>\n",
       "      <td>259.149994</td>\n",
       "      <td>249.000000</td>\n",
       "      <td>257.950012</td>\n",
       "      <td>257.950012</td>\n",
       "      <td>8534900</td>\n",
       "    </tr>\n",
       "    <tr>\n",
       "      <th>6</th>\n",
       "      <td>2018-02-13</td>\n",
       "      <td>257.290009</td>\n",
       "      <td>261.410004</td>\n",
       "      <td>254.699997</td>\n",
       "      <td>258.269989</td>\n",
       "      <td>258.269989</td>\n",
       "      <td>6855200</td>\n",
       "    </tr>\n",
       "    <tr>\n",
       "      <th>7</th>\n",
       "      <td>2018-02-14</td>\n",
       "      <td>260.470001</td>\n",
       "      <td>269.880005</td>\n",
       "      <td>260.329987</td>\n",
       "      <td>266.000000</td>\n",
       "      <td>266.000000</td>\n",
       "      <td>10972000</td>\n",
       "    </tr>\n",
       "    <tr>\n",
       "      <th>8</th>\n",
       "      <td>2018-02-15</td>\n",
       "      <td>270.029999</td>\n",
       "      <td>280.500000</td>\n",
       "      <td>267.630005</td>\n",
       "      <td>280.269989</td>\n",
       "      <td>280.269989</td>\n",
       "      <td>10759700</td>\n",
       "    </tr>\n",
       "    <tr>\n",
       "      <th>9</th>\n",
       "      <td>2018-02-16</td>\n",
       "      <td>278.730011</td>\n",
       "      <td>281.959991</td>\n",
       "      <td>275.690002</td>\n",
       "      <td>278.519989</td>\n",
       "      <td>278.519989</td>\n",
       "      <td>8312400</td>\n",
       "    </tr>\n",
       "  </tbody>\n",
       "</table>\n",
       "</div>"
      ],
      "text/plain": [
       "         Date        Open        High         Low       Close   Adj Close  \\\n",
       "0  2018-02-05  262.000000  267.899994  250.029999  254.259995  254.259995   \n",
       "1  2018-02-06  247.699997  266.700012  245.000000  265.720001  265.720001   \n",
       "2  2018-02-07  266.579987  272.450012  264.329987  264.559998  264.559998   \n",
       "3  2018-02-08  267.079987  267.619995  250.000000  250.100006  250.100006   \n",
       "4  2018-02-09  253.850006  255.800003  236.110001  249.470001  249.470001   \n",
       "5  2018-02-12  252.139999  259.149994  249.000000  257.950012  257.950012   \n",
       "6  2018-02-13  257.290009  261.410004  254.699997  258.269989  258.269989   \n",
       "7  2018-02-14  260.470001  269.880005  260.329987  266.000000  266.000000   \n",
       "8  2018-02-15  270.029999  280.500000  267.630005  280.269989  280.269989   \n",
       "9  2018-02-16  278.730011  281.959991  275.690002  278.519989  278.519989   \n",
       "\n",
       "     Volume  \n",
       "0  11896100  \n",
       "1  12595800  \n",
       "2   8981500  \n",
       "3   9306700  \n",
       "4  16906900  \n",
       "5   8534900  \n",
       "6   6855200  \n",
       "7  10972000  \n",
       "8  10759700  \n",
       "9   8312400  "
      ]
     },
     "execution_count": 3,
     "metadata": {},
     "output_type": "execute_result"
    }
   ],
   "source": [
    "df.head(10)"
   ]
  },
  {
   "cell_type": "code",
   "execution_count": 4,
   "id": "eb0f9765",
   "metadata": {
    "execution": {
     "iopub.execute_input": "2023-04-18T17:51:08.295194Z",
     "iopub.status.busy": "2023-04-18T17:51:08.29437Z",
     "iopub.status.idle": "2023-04-18T17:51:08.299657Z",
     "shell.execute_reply": "2023-04-18T17:51:08.298449Z"
    },
    "papermill": {
     "duration": 0.019683,
     "end_time": "2023-04-18T17:51:08.302578",
     "exception": false,
     "start_time": "2023-04-18T17:51:08.282895",
     "status": "completed"
    },
    "tags": []
   },
   "outputs": [],
   "source": [
    "viz = df.copy()"
   ]
  },
  {
   "cell_type": "markdown",
   "id": "f445b01c",
   "metadata": {
    "papermill": {
     "duration": 0.009045,
     "end_time": "2023-04-18T17:51:08.320995",
     "exception": false,
     "start_time": "2023-04-18T17:51:08.31195",
     "status": "completed"
    },
    "tags": []
   },
   "source": [
    "# Data Preparation"
   ]
  },
  {
   "cell_type": "code",
   "execution_count": 5,
   "id": "92d5ac58",
   "metadata": {
    "execution": {
     "iopub.execute_input": "2023-04-18T17:51:08.343052Z",
     "iopub.status.busy": "2023-04-18T17:51:08.342598Z",
     "iopub.status.idle": "2023-04-18T17:51:08.35429Z",
     "shell.execute_reply": "2023-04-18T17:51:08.353068Z"
    },
    "papermill": {
     "duration": 0.025096,
     "end_time": "2023-04-18T17:51:08.356723",
     "exception": false,
     "start_time": "2023-04-18T17:51:08.331627",
     "status": "completed"
    },
    "tags": []
   },
   "outputs": [
    {
     "data": {
      "text/plain": [
       "Date         0\n",
       "Open         0\n",
       "High         0\n",
       "Low          0\n",
       "Close        0\n",
       "Adj Close    0\n",
       "Volume       0\n",
       "dtype: int64"
      ]
     },
     "execution_count": 5,
     "metadata": {},
     "output_type": "execute_result"
    }
   ],
   "source": [
    "df.isnull().sum()"
   ]
  },
  {
   "cell_type": "code",
   "execution_count": 6,
   "id": "27a8f8d7",
   "metadata": {
    "execution": {
     "iopub.execute_input": "2023-04-18T17:51:08.377808Z",
     "iopub.status.busy": "2023-04-18T17:51:08.376433Z",
     "iopub.status.idle": "2023-04-18T17:51:08.384652Z",
     "shell.execute_reply": "2023-04-18T17:51:08.383465Z"
    },
    "papermill": {
     "duration": 0.021199,
     "end_time": "2023-04-18T17:51:08.387112",
     "exception": false,
     "start_time": "2023-04-18T17:51:08.365913",
     "status": "completed"
    },
    "tags": []
   },
   "outputs": [
    {
     "data": {
      "text/plain": [
       "(1009, 7)"
      ]
     },
     "execution_count": 6,
     "metadata": {},
     "output_type": "execute_result"
    }
   ],
   "source": [
    "df.shape"
   ]
  },
  {
   "cell_type": "code",
   "execution_count": 7,
   "id": "34d4ef88",
   "metadata": {
    "execution": {
     "iopub.execute_input": "2023-04-18T17:51:08.407096Z",
     "iopub.status.busy": "2023-04-18T17:51:08.406689Z",
     "iopub.status.idle": "2023-04-18T17:51:08.431447Z",
     "shell.execute_reply": "2023-04-18T17:51:08.429793Z"
    },
    "papermill": {
     "duration": 0.038089,
     "end_time": "2023-04-18T17:51:08.434236",
     "exception": false,
     "start_time": "2023-04-18T17:51:08.396147",
     "status": "completed"
    },
    "tags": []
   },
   "outputs": [
    {
     "name": "stdout",
     "output_type": "stream",
     "text": [
      "<class 'pandas.core.frame.DataFrame'>\n",
      "RangeIndex: 1009 entries, 0 to 1008\n",
      "Data columns (total 7 columns):\n",
      " #   Column     Non-Null Count  Dtype  \n",
      "---  ------     --------------  -----  \n",
      " 0   Date       1009 non-null   object \n",
      " 1   Open       1009 non-null   float64\n",
      " 2   High       1009 non-null   float64\n",
      " 3   Low        1009 non-null   float64\n",
      " 4   Close      1009 non-null   float64\n",
      " 5   Adj Close  1009 non-null   float64\n",
      " 6   Volume     1009 non-null   int64  \n",
      "dtypes: float64(5), int64(1), object(1)\n",
      "memory usage: 55.3+ KB\n"
     ]
    }
   ],
   "source": [
    "df.info()"
   ]
  },
  {
   "cell_type": "code",
   "execution_count": 8,
   "id": "94c7bc86",
   "metadata": {
    "execution": {
     "iopub.execute_input": "2023-04-18T17:51:08.455708Z",
     "iopub.status.busy": "2023-04-18T17:51:08.454654Z",
     "iopub.status.idle": "2023-04-18T17:51:08.493177Z",
     "shell.execute_reply": "2023-04-18T17:51:08.492015Z"
    },
    "papermill": {
     "duration": 0.052233,
     "end_time": "2023-04-18T17:51:08.496174",
     "exception": false,
     "start_time": "2023-04-18T17:51:08.443941",
     "status": "completed"
    },
    "tags": []
   },
   "outputs": [
    {
     "data": {
      "text/html": [
       "<div>\n",
       "<style scoped>\n",
       "    .dataframe tbody tr th:only-of-type {\n",
       "        vertical-align: middle;\n",
       "    }\n",
       "\n",
       "    .dataframe tbody tr th {\n",
       "        vertical-align: top;\n",
       "    }\n",
       "\n",
       "    .dataframe thead th {\n",
       "        text-align: right;\n",
       "    }\n",
       "</style>\n",
       "<table border=\"1\" class=\"dataframe\">\n",
       "  <thead>\n",
       "    <tr style=\"text-align: right;\">\n",
       "      <th></th>\n",
       "      <th>count</th>\n",
       "      <th>mean</th>\n",
       "      <th>std</th>\n",
       "      <th>min</th>\n",
       "      <th>25%</th>\n",
       "      <th>50%</th>\n",
       "      <th>75%</th>\n",
       "      <th>max</th>\n",
       "    </tr>\n",
       "  </thead>\n",
       "  <tbody>\n",
       "    <tr>\n",
       "      <th>Open</th>\n",
       "      <td>1009.0</td>\n",
       "      <td>4.190597e+02</td>\n",
       "      <td>1.085375e+02</td>\n",
       "      <td>2.339200e+02</td>\n",
       "      <td>3.314900e+02</td>\n",
       "      <td>3.777700e+02</td>\n",
       "      <td>5.091300e+02</td>\n",
       "      <td>6.923500e+02</td>\n",
       "    </tr>\n",
       "    <tr>\n",
       "      <th>High</th>\n",
       "      <td>1009.0</td>\n",
       "      <td>4.253207e+02</td>\n",
       "      <td>1.092630e+02</td>\n",
       "      <td>2.506500e+02</td>\n",
       "      <td>3.363000e+02</td>\n",
       "      <td>3.830100e+02</td>\n",
       "      <td>5.156300e+02</td>\n",
       "      <td>7.009900e+02</td>\n",
       "    </tr>\n",
       "    <tr>\n",
       "      <th>Low</th>\n",
       "      <td>1009.0</td>\n",
       "      <td>4.123740e+02</td>\n",
       "      <td>1.075559e+02</td>\n",
       "      <td>2.312300e+02</td>\n",
       "      <td>3.260000e+02</td>\n",
       "      <td>3.708800e+02</td>\n",
       "      <td>5.025300e+02</td>\n",
       "      <td>6.860900e+02</td>\n",
       "    </tr>\n",
       "    <tr>\n",
       "      <th>Close</th>\n",
       "      <td>1009.0</td>\n",
       "      <td>4.190007e+02</td>\n",
       "      <td>1.082900e+02</td>\n",
       "      <td>2.338800e+02</td>\n",
       "      <td>3.316200e+02</td>\n",
       "      <td>3.786700e+02</td>\n",
       "      <td>5.090800e+02</td>\n",
       "      <td>6.916900e+02</td>\n",
       "    </tr>\n",
       "    <tr>\n",
       "      <th>Adj Close</th>\n",
       "      <td>1009.0</td>\n",
       "      <td>4.190007e+02</td>\n",
       "      <td>1.082900e+02</td>\n",
       "      <td>2.338800e+02</td>\n",
       "      <td>3.316200e+02</td>\n",
       "      <td>3.786700e+02</td>\n",
       "      <td>5.090800e+02</td>\n",
       "      <td>6.916900e+02</td>\n",
       "    </tr>\n",
       "    <tr>\n",
       "      <th>Volume</th>\n",
       "      <td>1009.0</td>\n",
       "      <td>7.570685e+06</td>\n",
       "      <td>5.465535e+06</td>\n",
       "      <td>1.144000e+06</td>\n",
       "      <td>4.091900e+06</td>\n",
       "      <td>5.934500e+06</td>\n",
       "      <td>9.322400e+06</td>\n",
       "      <td>5.890430e+07</td>\n",
       "    </tr>\n",
       "  </tbody>\n",
       "</table>\n",
       "</div>"
      ],
      "text/plain": [
       "            count          mean           std           min           25%  \\\n",
       "Open       1009.0  4.190597e+02  1.085375e+02  2.339200e+02  3.314900e+02   \n",
       "High       1009.0  4.253207e+02  1.092630e+02  2.506500e+02  3.363000e+02   \n",
       "Low        1009.0  4.123740e+02  1.075559e+02  2.312300e+02  3.260000e+02   \n",
       "Close      1009.0  4.190007e+02  1.082900e+02  2.338800e+02  3.316200e+02   \n",
       "Adj Close  1009.0  4.190007e+02  1.082900e+02  2.338800e+02  3.316200e+02   \n",
       "Volume     1009.0  7.570685e+06  5.465535e+06  1.144000e+06  4.091900e+06   \n",
       "\n",
       "                    50%           75%           max  \n",
       "Open       3.777700e+02  5.091300e+02  6.923500e+02  \n",
       "High       3.830100e+02  5.156300e+02  7.009900e+02  \n",
       "Low        3.708800e+02  5.025300e+02  6.860900e+02  \n",
       "Close      3.786700e+02  5.090800e+02  6.916900e+02  \n",
       "Adj Close  3.786700e+02  5.090800e+02  6.916900e+02  \n",
       "Volume     5.934500e+06  9.322400e+06  5.890430e+07  "
      ]
     },
     "execution_count": 8,
     "metadata": {},
     "output_type": "execute_result"
    }
   ],
   "source": [
    "df.describe().T"
   ]
  },
  {
   "cell_type": "code",
   "execution_count": 9,
   "id": "1c7b63f4",
   "metadata": {
    "execution": {
     "iopub.execute_input": "2023-04-18T17:51:08.517796Z",
     "iopub.status.busy": "2023-04-18T17:51:08.517173Z",
     "iopub.status.idle": "2023-04-18T17:51:08.528049Z",
     "shell.execute_reply": "2023-04-18T17:51:08.526762Z"
    },
    "papermill": {
     "duration": 0.025515,
     "end_time": "2023-04-18T17:51:08.531426",
     "exception": false,
     "start_time": "2023-04-18T17:51:08.505911",
     "status": "completed"
    },
    "tags": []
   },
   "outputs": [],
   "source": [
    "train, test = train_test_split(df, test_size = 0.2)"
   ]
  },
  {
   "cell_type": "code",
   "execution_count": 10,
   "id": "1149c159",
   "metadata": {
    "execution": {
     "iopub.execute_input": "2023-04-18T17:51:08.553342Z",
     "iopub.status.busy": "2023-04-18T17:51:08.552852Z",
     "iopub.status.idle": "2023-04-18T17:51:08.558495Z",
     "shell.execute_reply": "2023-04-18T17:51:08.557067Z"
    },
    "papermill": {
     "duration": 0.019707,
     "end_time": "2023-04-18T17:51:08.561199",
     "exception": false,
     "start_time": "2023-04-18T17:51:08.541492",
     "status": "completed"
    },
    "tags": []
   },
   "outputs": [],
   "source": [
    "test_pred = test.copy()"
   ]
  },
  {
   "cell_type": "code",
   "execution_count": 11,
   "id": "7caa4836",
   "metadata": {
    "execution": {
     "iopub.execute_input": "2023-04-18T17:51:08.583738Z",
     "iopub.status.busy": "2023-04-18T17:51:08.582871Z",
     "iopub.status.idle": "2023-04-18T17:51:08.600339Z",
     "shell.execute_reply": "2023-04-18T17:51:08.598793Z"
    },
    "papermill": {
     "duration": 0.031884,
     "end_time": "2023-04-18T17:51:08.603046",
     "exception": false,
     "start_time": "2023-04-18T17:51:08.571162",
     "status": "completed"
    },
    "tags": []
   },
   "outputs": [
    {
     "data": {
      "text/html": [
       "<div>\n",
       "<style scoped>\n",
       "    .dataframe tbody tr th:only-of-type {\n",
       "        vertical-align: middle;\n",
       "    }\n",
       "\n",
       "    .dataframe tbody tr th {\n",
       "        vertical-align: top;\n",
       "    }\n",
       "\n",
       "    .dataframe thead th {\n",
       "        text-align: right;\n",
       "    }\n",
       "</style>\n",
       "<table border=\"1\" class=\"dataframe\">\n",
       "  <thead>\n",
       "    <tr style=\"text-align: right;\">\n",
       "      <th></th>\n",
       "      <th>Date</th>\n",
       "      <th>Open</th>\n",
       "      <th>High</th>\n",
       "      <th>Low</th>\n",
       "      <th>Close</th>\n",
       "      <th>Adj Close</th>\n",
       "      <th>Volume</th>\n",
       "    </tr>\n",
       "  </thead>\n",
       "  <tbody>\n",
       "    <tr>\n",
       "      <th>552</th>\n",
       "      <td>2020-04-16</td>\n",
       "      <td>437.000000</td>\n",
       "      <td>449.519989</td>\n",
       "      <td>431.609985</td>\n",
       "      <td>439.170013</td>\n",
       "      <td>439.170013</td>\n",
       "      <td>16128700</td>\n",
       "    </tr>\n",
       "    <tr>\n",
       "      <th>378</th>\n",
       "      <td>2019-08-07</td>\n",
       "      <td>302.559998</td>\n",
       "      <td>305.000000</td>\n",
       "      <td>296.809998</td>\n",
       "      <td>304.290009</td>\n",
       "      <td>304.290009</td>\n",
       "      <td>9322400</td>\n",
       "    </tr>\n",
       "    <tr>\n",
       "      <th>373</th>\n",
       "      <td>2019-07-31</td>\n",
       "      <td>325.160004</td>\n",
       "      <td>331.769989</td>\n",
       "      <td>318.529999</td>\n",
       "      <td>322.989990</td>\n",
       "      <td>322.989990</td>\n",
       "      <td>6259500</td>\n",
       "    </tr>\n",
       "    <tr>\n",
       "      <th>232</th>\n",
       "      <td>2019-01-08</td>\n",
       "      <td>319.980011</td>\n",
       "      <td>320.589996</td>\n",
       "      <td>308.010010</td>\n",
       "      <td>320.269989</td>\n",
       "      <td>320.269989</td>\n",
       "      <td>15359200</td>\n",
       "    </tr>\n",
       "    <tr>\n",
       "      <th>316</th>\n",
       "      <td>2019-05-09</td>\n",
       "      <td>360.899994</td>\n",
       "      <td>364.200012</td>\n",
       "      <td>352.750000</td>\n",
       "      <td>362.750000</td>\n",
       "      <td>362.750000</td>\n",
       "      <td>5882600</td>\n",
       "    </tr>\n",
       "    <tr>\n",
       "      <th>526</th>\n",
       "      <td>2020-03-10</td>\n",
       "      <td>356.429993</td>\n",
       "      <td>364.540009</td>\n",
       "      <td>347.850006</td>\n",
       "      <td>364.130005</td>\n",
       "      <td>364.130005</td>\n",
       "      <td>7604400</td>\n",
       "    </tr>\n",
       "    <tr>\n",
       "      <th>688</th>\n",
       "      <td>2020-10-28</td>\n",
       "      <td>486.359985</td>\n",
       "      <td>494.000000</td>\n",
       "      <td>483.279999</td>\n",
       "      <td>486.239990</td>\n",
       "      <td>486.239990</td>\n",
       "      <td>5992700</td>\n",
       "    </tr>\n",
       "    <tr>\n",
       "      <th>309</th>\n",
       "      <td>2019-04-30</td>\n",
       "      <td>369.559998</td>\n",
       "      <td>374.500000</td>\n",
       "      <td>368.350006</td>\n",
       "      <td>370.540009</td>\n",
       "      <td>370.540009</td>\n",
       "      <td>3870100</td>\n",
       "    </tr>\n",
       "    <tr>\n",
       "      <th>801</th>\n",
       "      <td>2021-04-13</td>\n",
       "      <td>557.000000</td>\n",
       "      <td>559.750000</td>\n",
       "      <td>550.299988</td>\n",
       "      <td>553.729980</td>\n",
       "      <td>553.729980</td>\n",
       "      <td>2720300</td>\n",
       "    </tr>\n",
       "    <tr>\n",
       "      <th>446</th>\n",
       "      <td>2019-11-12</td>\n",
       "      <td>295.320007</td>\n",
       "      <td>295.350006</td>\n",
       "      <td>288.700012</td>\n",
       "      <td>292.010010</td>\n",
       "      <td>292.010010</td>\n",
       "      <td>5772800</td>\n",
       "    </tr>\n",
       "  </tbody>\n",
       "</table>\n",
       "</div>"
      ],
      "text/plain": [
       "           Date        Open        High         Low       Close   Adj Close  \\\n",
       "552  2020-04-16  437.000000  449.519989  431.609985  439.170013  439.170013   \n",
       "378  2019-08-07  302.559998  305.000000  296.809998  304.290009  304.290009   \n",
       "373  2019-07-31  325.160004  331.769989  318.529999  322.989990  322.989990   \n",
       "232  2019-01-08  319.980011  320.589996  308.010010  320.269989  320.269989   \n",
       "316  2019-05-09  360.899994  364.200012  352.750000  362.750000  362.750000   \n",
       "526  2020-03-10  356.429993  364.540009  347.850006  364.130005  364.130005   \n",
       "688  2020-10-28  486.359985  494.000000  483.279999  486.239990  486.239990   \n",
       "309  2019-04-30  369.559998  374.500000  368.350006  370.540009  370.540009   \n",
       "801  2021-04-13  557.000000  559.750000  550.299988  553.729980  553.729980   \n",
       "446  2019-11-12  295.320007  295.350006  288.700012  292.010010  292.010010   \n",
       "\n",
       "       Volume  \n",
       "552  16128700  \n",
       "378   9322400  \n",
       "373   6259500  \n",
       "232  15359200  \n",
       "316   5882600  \n",
       "526   7604400  \n",
       "688   5992700  \n",
       "309   3870100  \n",
       "801   2720300  \n",
       "446   5772800  "
      ]
     },
     "execution_count": 11,
     "metadata": {},
     "output_type": "execute_result"
    }
   ],
   "source": [
    "train.head(10)"
   ]
  },
  {
   "cell_type": "code",
   "execution_count": 12,
   "id": "17e09b13",
   "metadata": {
    "execution": {
     "iopub.execute_input": "2023-04-18T17:51:08.625339Z",
     "iopub.status.busy": "2023-04-18T17:51:08.624868Z",
     "iopub.status.idle": "2023-04-18T17:51:08.643097Z",
     "shell.execute_reply": "2023-04-18T17:51:08.641825Z"
    },
    "papermill": {
     "duration": 0.032905,
     "end_time": "2023-04-18T17:51:08.646036",
     "exception": false,
     "start_time": "2023-04-18T17:51:08.613131",
     "status": "completed"
    },
    "tags": []
   },
   "outputs": [
    {
     "data": {
      "text/html": [
       "<div>\n",
       "<style scoped>\n",
       "    .dataframe tbody tr th:only-of-type {\n",
       "        vertical-align: middle;\n",
       "    }\n",
       "\n",
       "    .dataframe tbody tr th {\n",
       "        vertical-align: top;\n",
       "    }\n",
       "\n",
       "    .dataframe thead th {\n",
       "        text-align: right;\n",
       "    }\n",
       "</style>\n",
       "<table border=\"1\" class=\"dataframe\">\n",
       "  <thead>\n",
       "    <tr style=\"text-align: right;\">\n",
       "      <th></th>\n",
       "      <th>Date</th>\n",
       "      <th>Open</th>\n",
       "      <th>High</th>\n",
       "      <th>Low</th>\n",
       "      <th>Close</th>\n",
       "      <th>Adj Close</th>\n",
       "      <th>Volume</th>\n",
       "    </tr>\n",
       "  </thead>\n",
       "  <tbody>\n",
       "    <tr>\n",
       "      <th>481</th>\n",
       "      <td>2020-01-03</td>\n",
       "      <td>326.779999</td>\n",
       "      <td>329.859985</td>\n",
       "      <td>325.529999</td>\n",
       "      <td>325.899994</td>\n",
       "      <td>325.899994</td>\n",
       "      <td>3806900</td>\n",
       "    </tr>\n",
       "    <tr>\n",
       "      <th>317</th>\n",
       "      <td>2019-05-10</td>\n",
       "      <td>361.619995</td>\n",
       "      <td>365.260010</td>\n",
       "      <td>353.059998</td>\n",
       "      <td>361.040009</td>\n",
       "      <td>361.040009</td>\n",
       "      <td>5657100</td>\n",
       "    </tr>\n",
       "    <tr>\n",
       "      <th>380</th>\n",
       "      <td>2019-08-09</td>\n",
       "      <td>313.739990</td>\n",
       "      <td>316.640015</td>\n",
       "      <td>305.679993</td>\n",
       "      <td>308.929993</td>\n",
       "      <td>308.929993</td>\n",
       "      <td>5349100</td>\n",
       "    </tr>\n",
       "    <tr>\n",
       "      <th>187</th>\n",
       "      <td>2018-10-31</td>\n",
       "      <td>297.769989</td>\n",
       "      <td>311.500000</td>\n",
       "      <td>295.049988</td>\n",
       "      <td>301.779999</td>\n",
       "      <td>301.779999</td>\n",
       "      <td>20360300</td>\n",
       "    </tr>\n",
       "    <tr>\n",
       "      <th>80</th>\n",
       "      <td>2018-05-31</td>\n",
       "      <td>353.799988</td>\n",
       "      <td>355.529999</td>\n",
       "      <td>350.209991</td>\n",
       "      <td>351.600006</td>\n",
       "      <td>351.600006</td>\n",
       "      <td>6921700</td>\n",
       "    </tr>\n",
       "    <tr>\n",
       "      <th>338</th>\n",
       "      <td>2019-06-11</td>\n",
       "      <td>355.000000</td>\n",
       "      <td>357.579987</td>\n",
       "      <td>348.500000</td>\n",
       "      <td>351.269989</td>\n",
       "      <td>351.269989</td>\n",
       "      <td>5396700</td>\n",
       "    </tr>\n",
       "    <tr>\n",
       "      <th>36</th>\n",
       "      <td>2018-03-28</td>\n",
       "      <td>298.390015</td>\n",
       "      <td>298.799988</td>\n",
       "      <td>281.609985</td>\n",
       "      <td>285.769989</td>\n",
       "      <td>285.769989</td>\n",
       "      <td>18972900</td>\n",
       "    </tr>\n",
       "    <tr>\n",
       "      <th>608</th>\n",
       "      <td>2020-07-07</td>\n",
       "      <td>497.309998</td>\n",
       "      <td>504.820007</td>\n",
       "      <td>490.829987</td>\n",
       "      <td>493.160004</td>\n",
       "      <td>493.160004</td>\n",
       "      <td>5669900</td>\n",
       "    </tr>\n",
       "    <tr>\n",
       "      <th>436</th>\n",
       "      <td>2019-10-29</td>\n",
       "      <td>281.869995</td>\n",
       "      <td>284.410004</td>\n",
       "      <td>277.549988</td>\n",
       "      <td>281.209991</td>\n",
       "      <td>281.209991</td>\n",
       "      <td>4356200</td>\n",
       "    </tr>\n",
       "    <tr>\n",
       "      <th>163</th>\n",
       "      <td>2018-09-27</td>\n",
       "      <td>379.869995</td>\n",
       "      <td>383.200012</td>\n",
       "      <td>376.000000</td>\n",
       "      <td>380.709991</td>\n",
       "      <td>380.709991</td>\n",
       "      <td>7326200</td>\n",
       "    </tr>\n",
       "  </tbody>\n",
       "</table>\n",
       "</div>"
      ],
      "text/plain": [
       "           Date        Open        High         Low       Close   Adj Close  \\\n",
       "481  2020-01-03  326.779999  329.859985  325.529999  325.899994  325.899994   \n",
       "317  2019-05-10  361.619995  365.260010  353.059998  361.040009  361.040009   \n",
       "380  2019-08-09  313.739990  316.640015  305.679993  308.929993  308.929993   \n",
       "187  2018-10-31  297.769989  311.500000  295.049988  301.779999  301.779999   \n",
       "80   2018-05-31  353.799988  355.529999  350.209991  351.600006  351.600006   \n",
       "338  2019-06-11  355.000000  357.579987  348.500000  351.269989  351.269989   \n",
       "36   2018-03-28  298.390015  298.799988  281.609985  285.769989  285.769989   \n",
       "608  2020-07-07  497.309998  504.820007  490.829987  493.160004  493.160004   \n",
       "436  2019-10-29  281.869995  284.410004  277.549988  281.209991  281.209991   \n",
       "163  2018-09-27  379.869995  383.200012  376.000000  380.709991  380.709991   \n",
       "\n",
       "       Volume  \n",
       "481   3806900  \n",
       "317   5657100  \n",
       "380   5349100  \n",
       "187  20360300  \n",
       "80    6921700  \n",
       "338   5396700  \n",
       "36   18972900  \n",
       "608   5669900  \n",
       "436   4356200  \n",
       "163   7326200  "
      ]
     },
     "execution_count": 12,
     "metadata": {},
     "output_type": "execute_result"
    }
   ],
   "source": [
    "test.head(10)"
   ]
  },
  {
   "cell_type": "code",
   "execution_count": 13,
   "id": "4cb60091",
   "metadata": {
    "execution": {
     "iopub.execute_input": "2023-04-18T17:51:08.669147Z",
     "iopub.status.busy": "2023-04-18T17:51:08.668694Z",
     "iopub.status.idle": "2023-04-18T17:51:08.677479Z",
     "shell.execute_reply": "2023-04-18T17:51:08.675896Z"
    },
    "papermill": {
     "duration": 0.023441,
     "end_time": "2023-04-18T17:51:08.680304",
     "exception": false,
     "start_time": "2023-04-18T17:51:08.656863",
     "status": "completed"
    },
    "tags": []
   },
   "outputs": [],
   "source": [
    "x_train = train[['Open', 'High', 'Low', 'Volume']].values\n",
    "x_test = test[['Open', 'High', 'Low', 'Volume']].values"
   ]
  },
  {
   "cell_type": "code",
   "execution_count": 14,
   "id": "52bcbc83",
   "metadata": {
    "execution": {
     "iopub.execute_input": "2023-04-18T17:51:08.702746Z",
     "iopub.status.busy": "2023-04-18T17:51:08.702275Z",
     "iopub.status.idle": "2023-04-18T17:51:08.708094Z",
     "shell.execute_reply": "2023-04-18T17:51:08.706738Z"
    },
    "papermill": {
     "duration": 0.020354,
     "end_time": "2023-04-18T17:51:08.710852",
     "exception": false,
     "start_time": "2023-04-18T17:51:08.690498",
     "status": "completed"
    },
    "tags": []
   },
   "outputs": [],
   "source": [
    "y_train = train['Close'].values\n",
    "y_test = test['Close'].values"
   ]
  }
 ],
 "metadata": {
  "kernelspec": {
   "display_name": "Python 3",
   "language": "python",
   "name": "python3"
  },
  "language_info": {
   "codemirror_mode": {
    "name": "ipython",
    "version": 3
   },
   "file_extension": ".py",
   "mimetype": "text/x-python",
   "name": "python",
   "nbconvert_exporter": "python",
   "pygments_lexer": "ipython3",
   "version": "3.7.12"
  },
  "papermill": {
   "default_parameters": {},
   "duration": 15.154261,
   "end_time": "2023-04-18T17:51:11.059067",
   "environment_variables": {},
   "exception": null,
   "input_path": "__notebook__.ipynb",
   "output_path": "__notebook__.ipynb",
   "parameters": {},
   "start_time": "2023-04-18T17:50:55.904806",
   "version": "2.4.0"
  }
 },
 "nbformat": 4,
 "nbformat_minor": 5
}
